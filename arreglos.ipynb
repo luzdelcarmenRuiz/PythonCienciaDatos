{
  "nbformat": 4,
  "nbformat_minor": 0,
  "metadata": {
    "colab": {
      "provenance": [],
      "authorship_tag": "ABX9TyNDOlpc6Z/FvvqZjkZlRm94",
      "include_colab_link": true
    },
    "kernelspec": {
      "name": "python3",
      "display_name": "Python 3"
    },
    "language_info": {
      "name": "python"
    }
  },
  "cells": [
    {
      "cell_type": "markdown",
      "metadata": {
        "id": "view-in-github",
        "colab_type": "text"
      },
      "source": [
        "<a href=\"https://colab.research.google.com/github/luzdelcarmenRuiz/PythonCienciaDatos/blob/main/arreglos.ipynb\" target=\"_parent\"><img src=\"https://colab.research.google.com/assets/colab-badge.svg\" alt=\"Open In Colab\"/></a>"
      ]
    },
    {
      "cell_type": "code",
      "execution_count": 3,
      "metadata": {
        "colab": {
          "base_uri": "https://localhost:8080/"
        },
        "id": "-nCJMCiBaZSg",
        "outputId": "1ed1dcce-5aae-4c00-dfa3-ad21c02eb74f"
      },
      "outputs": [
        {
          "output_type": "stream",
          "name": "stdout",
          "text": [
            "[1 2 3 4 5]\n",
            "1\n"
          ]
        }
      ],
      "source": [
        "import numpy as np\n",
        "arreglo=np.array([1,2,3,4,5])\n",
        "print(arreglo)\n",
        "print(arreglo[0])"
      ]
    },
    {
      "cell_type": "code",
      "source": [
        "arreglo_2=np.array([[1,2,3],[4,5,6]])\n",
        "print(arreglo_2.ndim)\n",
        "print(arreglo_2)\n",
        "print('Segundo elemento del arreglo:',arreglo_2[0,1])"
      ],
      "metadata": {
        "colab": {
          "base_uri": "https://localhost:8080/"
        },
        "id": "nHs-3sXAa5hv",
        "outputId": "641b81e2-044e-4af4-d247-cef46e1f4c6a"
      },
      "execution_count": 11,
      "outputs": [
        {
          "output_type": "stream",
          "name": "stdout",
          "text": [
            "2\n",
            "[[1 2 3]\n",
            " [4 5 6]]\n",
            "Segundo elemento del arreglo: 2\n"
          ]
        }
      ]
    },
    {
      "cell_type": "code",
      "source": [
        "arreglo_3=np.array([[[1,2,3],[4,5,6]],[[7,8,9],[10,11,12]]])\n",
        "print(arreglo_3.ndim)\n",
        "print(arreglo_3)"
      ],
      "metadata": {
        "colab": {
          "base_uri": "https://localhost:8080/"
        },
        "id": "GL3jH-yHbWQe",
        "outputId": "e3d4ae5f-c4f0-46f9-bf13-49d80bbe6bd6"
      },
      "execution_count": 7,
      "outputs": [
        {
          "output_type": "stream",
          "name": "stdout",
          "text": [
            "3\n",
            "[[[ 1  2  3]\n",
            "  [ 4  5  6]]\n",
            "\n",
            " [[ 7  8  9]\n",
            "  [10 11 12]]]\n"
          ]
        }
      ]
    },
    {
      "cell_type": "code",
      "source": [
        "arreglo_4=np.array([41,32,28,17])\n",
        "print(arreglo_4[2]+arreglo_4[3])\n",
        "\n",
        "print(arreglo_4[1:3])\n",
        "print(arreglo_4[::2])\n",
        "print(arreglo_4.shape)"
      ],
      "metadata": {
        "colab": {
          "base_uri": "https://localhost:8080/"
        },
        "id": "fOrL-IR5b0OG",
        "outputId": "73e06f2e-1d67-4e58-e7c5-32105b03cd59"
      },
      "execution_count": 15,
      "outputs": [
        {
          "output_type": "stream",
          "name": "stdout",
          "text": [
            "45\n",
            "[32 28]\n",
            "[41 28]\n",
            "(4,)\n"
          ]
        }
      ]
    },
    {
      "cell_type": "code",
      "source": [
        "arreglo_5=np.array([1,2,3,4,5,6,7,8,9])\n",
        "arreglo_6=arreglo_5.reshape(3,3)\n",
        "print(arreglo_6)"
      ],
      "metadata": {
        "colab": {
          "base_uri": "https://localhost:8080/"
        },
        "id": "KjmbEFElHvtp",
        "outputId": "22cbd7ea-6908-4c98-954d-9f8c3ba0c7d7"
      },
      "execution_count": 4,
      "outputs": [
        {
          "output_type": "stream",
          "name": "stdout",
          "text": [
            "[[1 2 3]\n",
            " [4 5 6]\n",
            " [7 8 9]]\n"
          ]
        }
      ]
    },
    {
      "cell_type": "code",
      "source": [
        "arreglo_7=np.array([[1,2,3,4,5],[6,7,8,9,10],[5,4,3,2,7]])\n",
        "for i in arreglo_7:\n",
        "  for j in i:\n",
        "    print(j)\n",
        "\n",
        "#ordena el arreglo en su totalidad\n",
        "print(np.sort(arreglo_7,axis=None))\n",
        "print()\n",
        "\n",
        "#ordena los elementos de cada renglon\n",
        "print(np.sort(arreglo_7,axis=1))\n",
        "\n",
        "#ordena los elementos de cada columna\n",
        "print(np.sort(arreglo_7,axis=0))"
      ],
      "metadata": {
        "colab": {
          "base_uri": "https://localhost:8080/"
        },
        "id": "bnn_M0mMIWj6",
        "outputId": "75023d8e-4b72-4532-f82d-c2863f0ffc70"
      },
      "execution_count": 9,
      "outputs": [
        {
          "output_type": "stream",
          "name": "stdout",
          "text": [
            "1\n",
            "2\n",
            "3\n",
            "4\n",
            "5\n",
            "6\n",
            "7\n",
            "8\n",
            "9\n",
            "10\n",
            "5\n",
            "4\n",
            "3\n",
            "2\n",
            "7\n",
            "[ 1  2  2  3  3  4  4  5  5  6  7  7  8  9 10]\n",
            "\n",
            "[[ 1  2  3  4  5]\n",
            " [ 6  7  8  9 10]\n",
            " [ 2  3  4  5  7]]\n",
            "[[ 1  2  3  2  5]\n",
            " [ 5  4  3  4  7]\n",
            " [ 6  7  8  9 10]]\n"
          ]
        }
      ]
    },
    {
      "cell_type": "markdown",
      "source": [],
      "metadata": {
        "id": "ZqJx14HnpzQ0"
      }
    }
  ]
}