{
  "nbformat": 4,
  "nbformat_minor": 0,
  "metadata": {
    "colab": {
      "provenance": [],
      "authorship_tag": "ABX9TyOJDeKXVUHsv9ZKfST3bJQ5",
      "include_colab_link": true
    },
    "kernelspec": {
      "name": "python3",
      "display_name": "Python 3"
    },
    "language_info": {
      "name": "python"
    }
  },
  "cells": [
    {
      "cell_type": "markdown",
      "metadata": {
        "id": "view-in-github",
        "colab_type": "text"
      },
      "source": [
        "<a href=\"https://colab.research.google.com/github/luzdelcarmenRuiz/PythonCienciaDatos/blob/main/EscribirEnArchivo.ipynb\" target=\"_parent\"><img src=\"https://colab.research.google.com/assets/colab-badge.svg\" alt=\"Open In Colab\"/></a>"
      ]
    },
    {
      "cell_type": "code",
      "execution_count": 3,
      "metadata": {
        "id": "VHdg5YfyPx41"
      },
      "outputs": [],
      "source": [
        "\"\"\"100 números aleatorios para posteriormente escribirlos en un archivo. Cada número se escribe\n",
        "en una nueva línea y el rango de generación va de 1 a 1000.\"\"\"\n",
        "import random\n",
        "f=open('numeros.txt','w')\n",
        "for count in range(100):\n",
        "  num=random.randint(1,1000)\n",
        "  f.write(str(num)+'\\n')\n",
        "f.close()"
      ]
    },
    {
      "cell_type": "code",
      "source": [
        "f=open('numeros.txt','r')\n",
        "sumatoria=0\n",
        "for linea in f:\n",
        "  linea=linea.strip()\n",
        "  numero=int(linea)\n",
        "  sumatoria+=numero\n",
        "print(sumatoria)"
      ],
      "metadata": {
        "colab": {
          "base_uri": "https://localhost:8080/"
        },
        "id": "mmBg62zcsB41",
        "outputId": "2f4ff44f-16ab-47b7-ef89-2907107e433c"
      },
      "execution_count": 4,
      "outputs": [
        {
          "output_type": "stream",
          "name": "stdout",
          "text": [
            "50313\n"
          ]
        }
      ]
    }
  ]
}