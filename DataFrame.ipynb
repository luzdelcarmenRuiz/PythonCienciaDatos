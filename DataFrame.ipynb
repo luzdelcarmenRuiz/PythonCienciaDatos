{
  "nbformat": 4,
  "nbformat_minor": 0,
  "metadata": {
    "colab": {
      "provenance": [],
      "authorship_tag": "ABX9TyNYJ2sjob8DMgbStlau36f5",
      "include_colab_link": true
    },
    "kernelspec": {
      "name": "python3",
      "display_name": "Python 3"
    },
    "language_info": {
      "name": "python"
    }
  },
  "cells": [
    {
      "cell_type": "markdown",
      "metadata": {
        "id": "view-in-github",
        "colab_type": "text"
      },
      "source": [
        "<a href=\"https://colab.research.google.com/github/luzdelcarmenRuiz/PythonCienciaDatos/blob/main/DataFrame.ipynb\" target=\"_parent\"><img src=\"https://colab.research.google.com/assets/colab-badge.svg\" alt=\"Open In Colab\"/></a>"
      ]
    },
    {
      "cell_type": "code",
      "execution_count": 1,
      "metadata": {
        "colab": {
          "base_uri": "https://localhost:8080/"
        },
        "id": "QWJdMFAGUr9r",
        "outputId": "c3def5b4-eeb9-44f8-e093-3cb23c0298c5"
      },
      "outputs": [
        {
          "output_type": "stream",
          "name": "stdout",
          "text": [
            "     meses  dias\n",
            "0    enero    31\n",
            "1  febrero    28\n",
            "2    marzo    31\n",
            "3    abril    30\n"
          ]
        }
      ],
      "source": [
        "import pandas as pd\n",
        "\n",
        "misdatos={\n",
        "    'meses':[\"enero\",\"febrero\",\"marzo\",\"abril\"],\n",
        "    'dias':[31,28,31,30]\n",
        "}\n",
        "resultado=pd.DataFrame(misdatos)\n",
        "print(resultado)"
      ]
    }
  ]
}