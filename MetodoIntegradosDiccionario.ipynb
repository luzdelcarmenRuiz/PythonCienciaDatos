{
  "nbformat": 4,
  "nbformat_minor": 0,
  "metadata": {
    "colab": {
      "provenance": [],
      "authorship_tag": "ABX9TyOZFOUtOdqbSRUCgTdt7m/Y",
      "include_colab_link": true
    },
    "kernelspec": {
      "name": "python3",
      "display_name": "Python 3"
    },
    "language_info": {
      "name": "python"
    }
  },
  "cells": [
    {
      "cell_type": "markdown",
      "metadata": {
        "id": "view-in-github",
        "colab_type": "text"
      },
      "source": [
        "<a href=\"https://colab.research.google.com/github/luzdelcarmenRuiz/PythonCienciaDatos/blob/main/MetodoIntegradosDiccionario.ipynb\" target=\"_parent\"><img src=\"https://colab.research.google.com/assets/colab-badge.svg\" alt=\"Open In Colab\"/></a>"
      ]
    },
    {
      "cell_type": "code",
      "execution_count": 1,
      "metadata": {
        "colab": {
          "base_uri": "https://localhost:8080/"
        },
        "id": "ykExEWBJLxVd",
        "outputId": "c580a5b8-51ee-40bd-908c-4cfef04c36b8"
      },
      "outputs": [
        {
          "output_type": "stream",
          "name": "stdout",
          "text": [
            "Items: [('Jalisco', 'Guadalajara'), ('Morelos', 'Cuernavaca')]\n"
          ]
        }
      ],
      "source": [
        "capitales={\"Jalisco\":\"Guadalajara\",\"Morelos\":\"Cuernavaca\"}\n",
        "print(\"Items:\",list(capitales.items()))"
      ]
    },
    {
      "cell_type": "code",
      "source": [
        "print(\"Keys:\",list(capitales.keys()))"
      ],
      "metadata": {
        "colab": {
          "base_uri": "https://localhost:8080/"
        },
        "id": "vtGkP6eONKI7",
        "outputId": "3e1d2ade-9628-4fc0-e6ca-66ece06ea518"
      },
      "execution_count": 2,
      "outputs": [
        {
          "output_type": "stream",
          "name": "stdout",
          "text": [
            "Keys: ['Jalisco', 'Morelos']\n"
          ]
        }
      ]
    },
    {
      "cell_type": "code",
      "source": [
        "for key in capitales.keys():\n",
        "  print(f\"La capital de {key} es {capitales.get(key)}\")"
      ],
      "metadata": {
        "colab": {
          "base_uri": "https://localhost:8080/"
        },
        "id": "8ASLnkXcN4zy",
        "outputId": "b16a489d-0fcf-4ef6-8fc1-f51bd2527838"
      },
      "execution_count": 4,
      "outputs": [
        {
          "output_type": "stream",
          "name": "stdout",
          "text": [
            "La capital de Jalisco es Guadalajara\n",
            "La capital de Morelos es Cuernavaca\n"
          ]
        }
      ]
    },
    {
      "cell_type": "code",
      "source": [
        "print(\"Keys:\",list(capitales.values()))"
      ],
      "metadata": {
        "colab": {
          "base_uri": "https://localhost:8080/"
        },
        "id": "i5MBS9zfNUpp",
        "outputId": "ea30ae84-4a28-4368-d023-2da88558c545"
      },
      "execution_count": 3,
      "outputs": [
        {
          "output_type": "stream",
          "name": "stdout",
          "text": [
            "Keys: ['Guadalajara', 'Cuernavaca']\n"
          ]
        }
      ]
    }
  ]
}