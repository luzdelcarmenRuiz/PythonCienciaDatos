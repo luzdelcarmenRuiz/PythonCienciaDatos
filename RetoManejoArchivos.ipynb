{
  "nbformat": 4,
  "nbformat_minor": 0,
  "metadata": {
    "colab": {
      "provenance": [],
      "authorship_tag": "ABX9TyOAy5/YvhOsmzpAExizKXLJ",
      "include_colab_link": true
    },
    "kernelspec": {
      "name": "python3",
      "display_name": "Python 3"
    },
    "language_info": {
      "name": "python"
    }
  },
  "cells": [
    {
      "cell_type": "markdown",
      "metadata": {
        "id": "view-in-github",
        "colab_type": "text"
      },
      "source": [
        "<a href=\"https://colab.research.google.com/github/luzdelcarmenRuiz/PythonCienciaDatos/blob/main/RetoManejoArchivos.ipynb\" target=\"_parent\"><img src=\"https://colab.research.google.com/assets/colab-badge.svg\" alt=\"Open In Colab\"/></a>"
      ]
    },
    {
      "cell_type": "code",
      "source": [
        "\"\"\"Tomando como base el ejercicio donde se generaron números aleatorios en un archivo,\n",
        "crear un programa en Python que permita leer los números y realizar los siguientes cálculos:\n",
        " media, mediana, moda y desviación estándar.\"\"\"\n"
      ],
      "metadata": {
        "id": "WT1qEW9fwYRQ"
      },
      "execution_count": null,
      "outputs": []
    },
    {
      "cell_type": "code",
      "source": [
        "\"\"\"100 números aleatorios para posteriormente escribirlos en un archivo. Cada número se escribe\n",
        "en una nueva línea y el rango de generación va de 1 a 1000.\"\"\"\n",
        "import random\n",
        "f=open('numeros.txt','w')\n",
        "for count in range(100):\n",
        "  num=random.randint(1,1000)\n",
        "  f.write(str(num)+'\\n')\n",
        "f.close()"
      ],
      "metadata": {
        "id": "3F3SwZ5vwN5A"
      },
      "execution_count": 2,
      "outputs": []
    },
    {
      "cell_type": "code",
      "source": [
        "f=open('numeros.txt','r')\n",
        "sumatoria=0\n",
        "for linea in f:\n",
        "  linea=linea.strip()\n",
        "  numero=int(linea)\n",
        "  sumatoria+=numero\n",
        "print(sumatoria)"
      ],
      "metadata": {
        "colab": {
          "base_uri": "https://localhost:8080/"
        },
        "id": "mIt2G4PVwPrw",
        "outputId": "af59e80f-e8e6-492d-c78f-3268bc8376d5"
      },
      "execution_count": 3,
      "outputs": [
        {
          "output_type": "stream",
          "name": "stdout",
          "text": [
            "49770\n"
          ]
        }
      ]
    },
    {
      "cell_type": "code",
      "source": [
        "\"\"\"calculo de la media\"\"\"\n",
        "f=open('numeros.txt','r')\n",
        "sumatoria=0\n",
        "cont=0\n",
        "for linea in f:\n",
        "  linea=linea.strip()\n",
        "  numero=int(linea)\n",
        "  cont+=1\n",
        "  sumatoria+=numero\n",
        "print(sumatoria)\n",
        "media=sumatoria/cont\n",
        "print(cont)\n",
        "print(f\"La media de los números aleatorios es {media}\")"
      ],
      "metadata": {
        "colab": {
          "base_uri": "https://localhost:8080/"
        },
        "id": "-Ea0CwJWwkxv",
        "outputId": "c60be2ff-59de-4c61-ef68-41dec7f2ded7"
      },
      "execution_count": 7,
      "outputs": [
        {
          "output_type": "stream",
          "name": "stdout",
          "text": [
            "49770\n",
            "100\n",
            "La media de los números aleatorios es 497.7\n"
          ]
        }
      ]
    },
    {
      "cell_type": "code",
      "source": [
        "#mediana\n",
        "f=open('numeros.txt','r')\n",
        "lista=[]\n",
        "for linea in f:\n",
        "  linea=linea.strip()\n",
        "  numero=int(linea)\n",
        "  lista.append(numero)\n",
        "\n",
        "lista.sort()\n",
        "print(lista)\n",
        "n=int(cont/2)\n",
        "print(n)\n",
        "print(f\"La mediana de los números aleatorios es {lista[n-1]}\")"
      ],
      "metadata": {
        "colab": {
          "base_uri": "https://localhost:8080/"
        },
        "id": "bVUeL6q5xfsx",
        "outputId": "0f9f0851-62c9-487e-a4a0-3da2928377d5"
      },
      "execution_count": 13,
      "outputs": [
        {
          "output_type": "stream",
          "name": "stdout",
          "text": [
            "[6, 11, 11, 15, 16, 20, 27, 38, 46, 72, 104, 106, 113, 120, 122, 134, 153, 177, 188, 191, 240, 251, 257, 281, 288, 289, 289, 289, 301, 303, 325, 336, 338, 346, 387, 395, 397, 401, 401, 404, 409, 412, 414, 418, 420, 426, 434, 442, 455, 457, 475, 477, 477, 482, 491, 510, 522, 539, 551, 559, 574, 582, 584, 619, 635, 638, 654, 669, 690, 705, 709, 712, 716, 744, 745, 781, 803, 809, 812, 820, 823, 862, 865, 870, 872, 878, 884, 884, 886, 887, 895, 900, 926, 939, 946, 956, 961, 983, 996, 998]\n",
            "50\n",
            "La mediana de los números aleatorios es 457\n"
          ]
        }
      ]
    },
    {
      "cell_type": "code",
      "source": [
        "#moda\n",
        "def moda(datos):\n",
        "    repeticiones = 0\n",
        "\n",
        "    for i in datos:\n",
        "        n = datos.count(i)\n",
        "        if n > repeticiones:\n",
        "            repeticiones = n\n",
        "\n",
        "    moda = []\n",
        "\n",
        "    for i in datos:\n",
        "        n = datos.count(i)\n",
        "        if n == repeticiones and i not in moda:\n",
        "            moda.append(i)\n",
        "\n",
        "    if len(moda) != len(datos):\n",
        "        print ('Moda: ', moda)\n",
        "    else:\n",
        "        print ('No hay moda')\n",
        "\n",
        "moda(lista)"
      ],
      "metadata": {
        "colab": {
          "base_uri": "https://localhost:8080/"
        },
        "id": "m--N-oiT0L_5",
        "outputId": "db4d421c-7ed7-4355-befe-cc3848e1ad20"
      },
      "execution_count": 14,
      "outputs": [
        {
          "output_type": "stream",
          "name": "stdout",
          "text": [
            "Moda:  [289]\n"
          ]
        }
      ]
    },
    {
      "cell_type": "code",
      "source": [
        "#desviacion estandar\n",
        "import math\n",
        "f=open('numeros.txt','r')\n",
        "listaDif=[]\n",
        "sumad=0\n",
        "for linea in f:\n",
        "  linea=linea.strip()\n",
        "  numero=int(linea)\n",
        "  res=numero-media\n",
        "  eleva=pow(res,2)\n",
        "  listaDif.append(eleva)\n",
        "\n",
        "for x in listaDif:\n",
        "  sumad=sumad+x\n",
        "\n",
        "s=math.sqrt(sumad/(cont-1))\n",
        "print(f\"la desviacion estandar es {s}\")"
      ],
      "metadata": {
        "colab": {
          "base_uri": "https://localhost:8080/"
        },
        "id": "4Kemx3Yv1FZn",
        "outputId": "67e2b185-a78c-49a5-9ccc-3fd470ef63b3"
      },
      "execution_count": 15,
      "outputs": [
        {
          "output_type": "stream",
          "name": "stdout",
          "text": [
            "la desviacion estanda es 295.0110253033013\n"
          ]
        }
      ]
    }
  ]
}